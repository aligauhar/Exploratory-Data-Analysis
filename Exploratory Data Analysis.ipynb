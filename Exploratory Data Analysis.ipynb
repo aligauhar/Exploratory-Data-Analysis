{
 "cells": [
  {
   "cell_type": "markdown",
   "id": "c0da36ba-c6c6-49ec-996f-18062de98342",
   "metadata": {},
   "source": [
    "# Exploratory Data Analysis\n",
    "### A Templet to get the work done easily\n",
    "- Understanding Data -> Cleaning Data -> Analysing Data"
   ]
  },
  {
   "cell_type": "code",
   "execution_count": 161,
   "id": "7361f331-e27c-401d-9367-9b72ccc60a37",
   "metadata": {
    "tags": []
   },
   "outputs": [
    {
     "name": "stdout",
     "output_type": "stream",
     "text": [
      "Funtion Initialization Done\n"
     ]
    }
   ],
   "source": [
    "import pandas as pd\n",
    "import numpy as np\n",
    "import matplotlib.pyplot as plt\n",
    "import seaborn as sns\n",
    "from IPython.display import display, Markdown\n",
    "from sklearn.preprocessing import LabelEncoder\n",
    "\n",
    "# understanding the data\n",
    "\n",
    "def load_data(file_path):\n",
    "    # Check the file extension to determine the file type\n",
    "    if file_path.endswith('.csv'):\n",
    "        data = pd.read_csv(file_path)\n",
    "        print(\"Successfully loaded CSV file.\")\n",
    "    elif file_path.endswith('.xlsx'):\n",
    "        data = pd.read_excel(file_path)\n",
    "        print(\"Successfully loaded Excel file.\")\n",
    "    else:\n",
    "        raise ValueError(\"Unsupported file format. Only CSV and Excel (XLSX) files are supported.\")\n",
    "    return data\n",
    "\n",
    "\n",
    "def display_basic_info(data):\n",
    "    data = pd.DataFrame(data)\n",
    "    \n",
    "    display(Markdown(\"### Head of the dataset:\"))\n",
    "    display(data.head())\n",
    "    \n",
    "    display(Markdown(\"### Tail of the dataset:\"))\n",
    "    display(data.tail())\n",
    "\n",
    "    display(Markdown(\"### Summary statistics:\"))\n",
    "    display(data.describe())\n",
    "\n",
    "    display(Markdown(\"### Info about the dataset:\"))\n",
    "    display(data.info())\n",
    "    \n",
    "    display(Markdown(\"### Dimensions of the dataset:\"))\n",
    "    display(data.shape)\n",
    "    \n",
    "    display(Markdown(\"### Columns of the dataset:\"))\n",
    "    display(data.columns)\n",
    "    \n",
    "    display(Markdown(\"### Unique Values count:\"))\n",
    "    display(data.nunique())\n",
    "\n",
    "    # Example for displaying unique values of a specific column (e.g., \"gender\")\n",
    "    # display(Markdown(\"###Unique values of the 'gender' column:\"))\n",
    "    # display(data[\"gender\"].unique())\n",
    "\n",
    "# cleaning Data\n",
    "    \n",
    "def handle_missing_values(data):\n",
    "    # Check for missing values\n",
    "    missing_values = data.isnull().sum()\n",
    "    \n",
    "    if missing_values.sum() > 0:\n",
    "        display(Markdown(\"### Columns with missing values:\"))\n",
    "        print(missing_values[missing_values > 0])\n",
    "    else:\n",
    "        print(\"no missing value found\")\n",
    "        \n",
    "        \n",
    "\n",
    "def drop_unwanted_column(column):  \n",
    "    if(column != ''):\n",
    "        data = data.drop([column], axis=1)\n",
    "    else:\n",
    "        print(\"Specify the column\")\n",
    "    \n",
    "    \n",
    "# understanding DAta\n",
    "\n",
    "\n",
    "def visualize_correlation_matrix(data):\n",
    "    # Select only numeric columns for correlation analysis\n",
    "    numeric_data = data.select_dtypes(include=[np.number])\n",
    "\n",
    "    # Check if there are any numeric columns\n",
    "    if numeric_data.shape[1] == 0:\n",
    "        print(\"No numeric columns for correlation analysis.\")\n",
    "        return\n",
    "\n",
    "    # Plot a heatmap of the correlation matrix\n",
    "    correlation_matrix = numeric_data.corr()\n",
    "    \n",
    "    plt.figure(figsize=(10, 8))\n",
    "    sns.heatmap(correlation_matrix, annot=True, cmap='coolwarm', fmt=\".2f\", linewidths=0.5)\n",
    "    plt.title(\"Correlation Matrix\")\n",
    "    plt.show()\n",
    "\n",
    "def visualize_feature_relationships(data, column1, column2):\n",
    "    # Encode categorical columns to numerical values\n",
    "    label_encoder = LabelEncoder()\n",
    "    print(data.columns)\n",
    "\n",
    "    # Check if the specified columns are present before proceeding\n",
    "    if column1 in data.columns and column2 in data.columns:\n",
    "        encoded_data = data[[column1, column2]].apply(label_encoder.fit_transform)\n",
    "        sns.pairplot(encoded_data)\n",
    "        plt.show()\n",
    "    else:\n",
    "        print(f\"'{column1}' and '{column2}' columns not found in the dataset.\")\n",
    "    \n",
    "def visualize_relplot(dataset):\n",
    "    try:\n",
    "        # Plot replot for selected features\n",
    "        sns.catplot(x='variable', y='value', hue='variable', data=dataset, kind='swarm', height=6, aspect=2)\n",
    "        plt.show()\n",
    "    except Exception as e:\n",
    "        print(f\"Error occurred while plotting catplot: {e}\")\n",
    "        print(\"Check if the specified columns 'variable', 'value', and 'hue' are present in the dataset.\")\n",
    "\n",
    "\n",
    "def distributed_or_count_plot(data, col):\n",
    "    if pd.api.types.is_numeric_dtype(data[col]):\n",
    "        display(Markdown(\"### Got Numerical Data, plotting Distributed Plot:\"))\n",
    "        sns.histplot(data[col], bins=10, kde=True)\n",
    "        plt.title(\"Numeric Distribution Plot\")\n",
    "    else:\n",
    "        display(Markdown(\"### Got Non Numerical Data, plotting Numeric Count Plot\"))\n",
    "        sns.countplot(x=col, data=data)\n",
    "        plt.title(\"Count Plot for Categorical Data\")\n",
    "    \n",
    "    plt.show()\n",
    "    \n",
    "def visualize_numerical_distribution(data):\n",
    "    numerical_features = data.select_dtypes(include=[np.number]).columns\n",
    "    if len(numerical_features) > 0:\n",
    "        print(\"Numerical Features:\", numerical_features)\n",
    "    else:\n",
    "        print(\"No numerical feature found\")\n",
    "    \n",
    "    for feature in numerical_features:\n",
    "        print(f\"\\nProcessing feature: {feature}\")\n",
    "        try:\n",
    "            plt.figure(figsize=(8, 5))\n",
    "            sns.histplot(data[feature].astype(float), bins=30, kde=True)\n",
    "            plt.title(f'Distribution of {feature}')\n",
    "            plt.show()\n",
    "        except ValueError as e:\n",
    "            print(f\"Error plotting {feature}: {e}\")\n",
    "\n",
    "\n",
    "        \n",
    "print(\"Funtion Initialization Done\")        "
   ]
  },
  {
   "cell_type": "markdown",
   "id": "32d69520-270d-4736-9f6b-febbaa90f961",
   "metadata": {},
   "source": [
    "### Understanding Data"
   ]
  },
  {
   "cell_type": "code",
   "execution_count": 154,
   "id": "4d2aec81-38ac-441d-8f92-f41018461566",
   "metadata": {
    "tags": []
   },
   "outputs": [
    {
     "name": "stdout",
     "output_type": "stream",
     "text": [
      "Successfully loaded Excel file.\n"
     ]
    }
   ],
   "source": [
    "file_path = 'data.xlsx'\n",
    "dataset = load_data(file_path)"
   ]
  },
  {
   "cell_type": "code",
   "execution_count": 155,
   "id": "28e62096-59fe-450d-b4d2-7dbf5ca101be",
   "metadata": {
    "tags": []
   },
   "outputs": [
    {
     "data": {
      "text/markdown": [
       "### Head of the dataset:"
      ],
      "text/plain": [
       "<IPython.core.display.Markdown object>"
      ]
     },
     "metadata": {},
     "output_type": "display_data"
    },
    {
     "data": {
      "text/html": [
       "<div>\n",
       "<style scoped>\n",
       "    .dataframe tbody tr th:only-of-type {\n",
       "        vertical-align: middle;\n",
       "    }\n",
       "\n",
       "    .dataframe tbody tr th {\n",
       "        vertical-align: top;\n",
       "    }\n",
       "\n",
       "    .dataframe thead th {\n",
       "        text-align: right;\n",
       "    }\n",
       "</style>\n",
       "<table border=\"1\" class=\"dataframe\">\n",
       "  <thead>\n",
       "    <tr style=\"text-align: right;\">\n",
       "      <th></th>\n",
       "      <th>Scenario</th>\n",
       "      <th>Answer</th>\n",
       "    </tr>\n",
       "  </thead>\n",
       "  <tbody>\n",
       "    <tr>\n",
       "      <th>0</th>\n",
       "      <td>You are traveling to Paris for the first time....</td>\n",
       "      <td>Visit the Eiffel Tower.</td>\n",
       "    </tr>\n",
       "    <tr>\n",
       "      <th>1</th>\n",
       "      <td>You are planning a trip to Russia. What is one...</td>\n",
       "      <td>The Red Square in Moscow.</td>\n",
       "    </tr>\n",
       "    <tr>\n",
       "      <th>2</th>\n",
       "      <td>You are an aspiring mountaineer. What is your ...</td>\n",
       "      <td>Mount Everest.</td>\n",
       "    </tr>\n",
       "    <tr>\n",
       "      <th>3</th>\n",
       "      <td>You are trying to decide which social media pl...</td>\n",
       "      <td>Facebook.</td>\n",
       "    </tr>\n",
       "    <tr>\n",
       "      <th>4</th>\n",
       "      <td>You are learning to code. What is the most rec...</td>\n",
       "      <td>Python.</td>\n",
       "    </tr>\n",
       "  </tbody>\n",
       "</table>\n",
       "</div>"
      ],
      "text/plain": [
       "                                            Scenario   \n",
       "0  You are traveling to Paris for the first time....  \\\n",
       "1  You are planning a trip to Russia. What is one...   \n",
       "2  You are an aspiring mountaineer. What is your ...   \n",
       "3  You are trying to decide which social media pl...   \n",
       "4  You are learning to code. What is the most rec...   \n",
       "\n",
       "                      Answer  \n",
       "0    Visit the Eiffel Tower.  \n",
       "1  The Red Square in Moscow.  \n",
       "2             Mount Everest.  \n",
       "3                  Facebook.  \n",
       "4                    Python.  "
      ]
     },
     "metadata": {},
     "output_type": "display_data"
    },
    {
     "data": {
      "text/markdown": [
       "### Tail of the dataset:"
      ],
      "text/plain": [
       "<IPython.core.display.Markdown object>"
      ]
     },
     "metadata": {},
     "output_type": "display_data"
    },
    {
     "data": {
      "text/html": [
       "<div>\n",
       "<style scoped>\n",
       "    .dataframe tbody tr th:only-of-type {\n",
       "        vertical-align: middle;\n",
       "    }\n",
       "\n",
       "    .dataframe tbody tr th {\n",
       "        vertical-align: top;\n",
       "    }\n",
       "\n",
       "    .dataframe thead th {\n",
       "        text-align: right;\n",
       "    }\n",
       "</style>\n",
       "<table border=\"1\" class=\"dataframe\">\n",
       "  <thead>\n",
       "    <tr style=\"text-align: right;\">\n",
       "      <th></th>\n",
       "      <th>Scenario</th>\n",
       "      <th>Answer</th>\n",
       "    </tr>\n",
       "  </thead>\n",
       "  <tbody>\n",
       "    <tr>\n",
       "      <th>5</th>\n",
       "      <td>You are looking for a cloud computing solution...</td>\n",
       "      <td>Infrastructure as a Service (IaaS).</td>\n",
       "    </tr>\n",
       "    <tr>\n",
       "      <th>6</th>\n",
       "      <td>You are a gamer looking for the most popular v...</td>\n",
       "      <td>Grand Theft Auto V.</td>\n",
       "    </tr>\n",
       "    <tr>\n",
       "      <th>7</th>\n",
       "      <td>You are interested in sports. What is the most...</td>\n",
       "      <td>Football (soccer).</td>\n",
       "    </tr>\n",
       "    <tr>\n",
       "      <th>8</th>\n",
       "      <td>You are curious about the universe. What is th...</td>\n",
       "      <td>Hydrogen.</td>\n",
       "    </tr>\n",
       "    <tr>\n",
       "      <th>9</th>\n",
       "      <td>You are looking for a classic book to read. Wh...</td>\n",
       "      <td>Don Quixote.</td>\n",
       "    </tr>\n",
       "  </tbody>\n",
       "</table>\n",
       "</div>"
      ],
      "text/plain": [
       "                                            Scenario   \n",
       "5  You are looking for a cloud computing solution...  \\\n",
       "6  You are a gamer looking for the most popular v...   \n",
       "7  You are interested in sports. What is the most...   \n",
       "8  You are curious about the universe. What is th...   \n",
       "9  You are looking for a classic book to read. Wh...   \n",
       "\n",
       "                                Answer  \n",
       "5  Infrastructure as a Service (IaaS).  \n",
       "6                  Grand Theft Auto V.  \n",
       "7                   Football (soccer).  \n",
       "8                            Hydrogen.  \n",
       "9                         Don Quixote.  "
      ]
     },
     "metadata": {},
     "output_type": "display_data"
    },
    {
     "data": {
      "text/markdown": [
       "### Summary statistics:"
      ],
      "text/plain": [
       "<IPython.core.display.Markdown object>"
      ]
     },
     "metadata": {},
     "output_type": "display_data"
    },
    {
     "data": {
      "text/html": [
       "<div>\n",
       "<style scoped>\n",
       "    .dataframe tbody tr th:only-of-type {\n",
       "        vertical-align: middle;\n",
       "    }\n",
       "\n",
       "    .dataframe tbody tr th {\n",
       "        vertical-align: top;\n",
       "    }\n",
       "\n",
       "    .dataframe thead th {\n",
       "        text-align: right;\n",
       "    }\n",
       "</style>\n",
       "<table border=\"1\" class=\"dataframe\">\n",
       "  <thead>\n",
       "    <tr style=\"text-align: right;\">\n",
       "      <th></th>\n",
       "      <th>Scenario</th>\n",
       "      <th>Answer</th>\n",
       "    </tr>\n",
       "  </thead>\n",
       "  <tbody>\n",
       "    <tr>\n",
       "      <th>count</th>\n",
       "      <td>10</td>\n",
       "      <td>10</td>\n",
       "    </tr>\n",
       "    <tr>\n",
       "      <th>unique</th>\n",
       "      <td>10</td>\n",
       "      <td>10</td>\n",
       "    </tr>\n",
       "    <tr>\n",
       "      <th>top</th>\n",
       "      <td>You are traveling to Paris for the first time....</td>\n",
       "      <td>Visit the Eiffel Tower.</td>\n",
       "    </tr>\n",
       "    <tr>\n",
       "      <th>freq</th>\n",
       "      <td>1</td>\n",
       "      <td>1</td>\n",
       "    </tr>\n",
       "  </tbody>\n",
       "</table>\n",
       "</div>"
      ],
      "text/plain": [
       "                                                 Scenario   \n",
       "count                                                  10  \\\n",
       "unique                                                 10   \n",
       "top     You are traveling to Paris for the first time....   \n",
       "freq                                                    1   \n",
       "\n",
       "                         Answer  \n",
       "count                        10  \n",
       "unique                       10  \n",
       "top     Visit the Eiffel Tower.  \n",
       "freq                          1  "
      ]
     },
     "metadata": {},
     "output_type": "display_data"
    },
    {
     "data": {
      "text/markdown": [
       "### Info about the dataset:"
      ],
      "text/plain": [
       "<IPython.core.display.Markdown object>"
      ]
     },
     "metadata": {},
     "output_type": "display_data"
    },
    {
     "name": "stdout",
     "output_type": "stream",
     "text": [
      "<class 'pandas.core.frame.DataFrame'>\n",
      "RangeIndex: 10 entries, 0 to 9\n",
      "Data columns (total 2 columns):\n",
      " #   Column    Non-Null Count  Dtype \n",
      "---  ------    --------------  ----- \n",
      " 0   Scenario  10 non-null     object\n",
      " 1   Answer    10 non-null     object\n",
      "dtypes: object(2)\n",
      "memory usage: 288.0+ bytes\n"
     ]
    },
    {
     "data": {
      "text/plain": [
       "None"
      ]
     },
     "metadata": {},
     "output_type": "display_data"
    },
    {
     "data": {
      "text/markdown": [
       "### Dimensions of the dataset:"
      ],
      "text/plain": [
       "<IPython.core.display.Markdown object>"
      ]
     },
     "metadata": {},
     "output_type": "display_data"
    },
    {
     "data": {
      "text/plain": [
       "(10, 2)"
      ]
     },
     "metadata": {},
     "output_type": "display_data"
    },
    {
     "data": {
      "text/markdown": [
       "### Columns of the dataset:"
      ],
      "text/plain": [
       "<IPython.core.display.Markdown object>"
      ]
     },
     "metadata": {},
     "output_type": "display_data"
    },
    {
     "data": {
      "text/plain": [
       "Index(['Scenario', 'Answer'], dtype='object')"
      ]
     },
     "metadata": {},
     "output_type": "display_data"
    },
    {
     "data": {
      "text/markdown": [
       "### Unique Values count:"
      ],
      "text/plain": [
       "<IPython.core.display.Markdown object>"
      ]
     },
     "metadata": {},
     "output_type": "display_data"
    },
    {
     "data": {
      "text/plain": [
       "Scenario    10\n",
       "Answer      10\n",
       "dtype: int64"
      ]
     },
     "metadata": {},
     "output_type": "display_data"
    }
   ],
   "source": [
    "display_basic_info(dataset)  "
   ]
  },
  {
   "cell_type": "markdown",
   "id": "e6f797b2-ca50-4a41-b180-7f027db035d1",
   "metadata": {},
   "source": [
    "### Cleaning missing values"
   ]
  },
  {
   "cell_type": "code",
   "execution_count": 156,
   "id": "66619910-0264-4dd9-b386-ddce98ef954f",
   "metadata": {
    "tags": []
   },
   "outputs": [
    {
     "name": "stdout",
     "output_type": "stream",
     "text": [
      "no missing value found\n"
     ]
    }
   ],
   "source": [
    "handle_missing_values(dataset)"
   ]
  },
  {
   "cell_type": "code",
   "execution_count": 157,
   "id": "b15ee7ec-f4f9-401d-9428-7565565255df",
   "metadata": {
    "tags": []
   },
   "outputs": [
    {
     "name": "stdout",
     "output_type": "stream",
     "text": [
      "Specify the column\n"
     ]
    }
   ],
   "source": [
    "column =''\n",
    "drop_unwanted_column(column) "
   ]
  },
  {
   "cell_type": "markdown",
   "id": "cd7a7fc3-126c-4015-b72d-d70d64e0ce6d",
   "metadata": {},
   "source": [
    "### Understanding Data"
   ]
  },
  {
   "cell_type": "code",
   "execution_count": 163,
   "id": "67ae693d-ed78-4712-a35b-516b79840a15",
   "metadata": {
    "tags": []
   },
   "outputs": [
    {
     "name": "stdout",
     "output_type": "stream",
     "text": [
      "Error occurred while plotting catplot: Could not interpret value `variable` for parameter `x`\n",
      "Check if the specified columns 'variable', 'value', and 'hue' are present in the dataset.\n"
     ]
    }
   ],
   "source": [
    "visualize_relplot(dataset)\n",
    "\n",
    "# Set these parameters above in the function definition\n",
    "# x: The variable to be plotted on the x-axis. In this example, it's set to 'variable', \n",
    "# so the x-axis will likely represent different categories or levels of the 'variable' \n",
    "# column in the dataset\n",
    "\n",
    "# y: The variable to be plotted on the y-axis. In this example, it's set to 'value', \n",
    "# so the y-axis will represent the values associated with each category or level of \n",
    "# the 'variable' column.\n",
    "\n",
    "# hue: This parameter is used to color the points based on another variable. \n",
    "# In this example, it's also set to 'variable', so different categories or \n",
    "# levels of the 'variable' column will be differentiated by color."
   ]
  },
  {
   "cell_type": "code",
   "execution_count": 164,
   "id": "af5da1a3-6e7a-45fb-9a58-0471341cc46c",
   "metadata": {
    "tags": []
   },
   "outputs": [
    {
     "data": {
      "text/markdown": [
       "### Got Non Numerical Data, plotting Numeric Count Plot"
      ],
      "text/plain": [
       "<IPython.core.display.Markdown object>"
      ]
     },
     "metadata": {},
     "output_type": "display_data"
    },
    {
     "data": {
      "image/png": "[encoded data removed]",
      "text/plain": [
       "<Figure size 640x480 with 1 Axes>"
      ]
     },
     "metadata": {},
     "output_type": "display_data"
    }
   ],
   "source": [
    "distributed_or_count_plot(dataset, 'Scenario')"
   ]
  },
  {
   "cell_type": "code",
   "execution_count": 165,
   "id": "80d19855-ddca-4cfa-935e-ee0b2659e3a4",
   "metadata": {
    "tags": []
   },
   "outputs": [
    {
     "name": "stdout",
     "output_type": "stream",
     "text": [
      "No numerical feature found\n"
     ]
    }
   ],
   "source": [
    "visualize_numerical_distribution(dataset)"
   ]
  },
  {
   "cell_type": "code",
   "execution_count": 166,
   "id": "ddbe9b8a-7cbc-45ff-85e3-25be1c15da0b",
   "metadata": {
    "tags": []
   },
   "outputs": [
    {
     "name": "stdout",
     "output_type": "stream",
     "text": [
      "Index(['Scenario', 'Answer'], dtype='object')\n"
     ]
    },
    {
     "data": {
      "image/png": "[encoded data removed]",
      "text/plain": [
       "<Figure size 500x500 with 6 Axes>"
      ]
     },
     "metadata": {},
     "output_type": "display_data"
    }
   ],
   "source": [
    "visualize_feature_relationships(dataset, 'Scenario', 'Answer')"
   ]
  },
  {
   "cell_type": "code",
   "execution_count": 167,
   "id": "11487899-c528-4596-afd0-c359769fa850",
   "metadata": {
    "tags": []
   },
   "outputs": [
    {
     "name": "stdout",
     "output_type": "stream",
     "text": [
      "No numeric columns for correlation analysis.\n"
     ]
    }
   ],
   "source": [
    "visualize_correlation_matrix(dataset)"
   ]
  }
 ],
 "metadata": {
  "kernelspec": {
   "display_name": "Python 3 (ipykernel)",
   "language": "python",
   "name": "python3"
  },
  "language_info": {
   "codemirror_mode": {
    "name": "ipython",
    "version": 3
   },
   "file_extension": ".py",
   "mimetype": "text/x-python",
   "name": "python",
   "nbconvert_exporter": "python",
   "pygments_lexer": "ipython3",
   "version": "3.10.6"
  }
 },
 "nbformat": 4,
 "nbformat_minor": 5
}
